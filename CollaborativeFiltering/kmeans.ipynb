{
 "cells": [
  {
   "cell_type": "markdown",
   "metadata": {},
   "source": [
    "## Import Libraries"
   ]
  },
  {
   "cell_type": "code",
   "execution_count": null,
   "metadata": {},
   "outputs": [],
   "source": [
    "import pandas as pd\n",
    "import numpy as np\n",
    "from sklearn.cluster import KMeans\n",
    "from sklearn.model_selection import train_test_split\n",
    "import optuna"
   ]
  },
  {
   "cell_type": "code",
   "execution_count": null,
   "metadata": {},
   "outputs": [],
   "source": [
    "SEED = 42\n",
    "np.random.seed(SEED)"
   ]
  },
  {
   "cell_type": "markdown",
   "metadata": {},
   "source": [
    "## Data PreProcessing"
   ]
  },
  {
   "cell_type": "code",
   "execution_count": null,
   "metadata": {},
   "outputs": [],
   "source": [
    "ratings = pd.read_csv('../Dataset/ratings.csv')"
   ]
  },
  {
   "cell_type": "code",
   "execution_count": null,
   "metadata": {},
   "outputs": [],
   "source": [
    "# create a ratings matrix\n",
    "ratings_matrix = ratings.pivot_table(index=['userId'], columns=['movieId'], values='rating')\n",
    "\n",
    "# get the number of ratings for each user\n",
    "user_counts = pd.DataFrame(ratings_matrix.count(axis=1), columns=['count'])\n",
    "user_counts['userId'] = user_counts.index\n",
    "user_counts = user_counts.sort_values('count', ascending=False)\n",
    "\n",
    "# Fill NaNs with 0\n",
    "ratings_matrix.fillna(0, inplace=True)\n",
    "\n",
    "# order the users by the number of ratings (descending)\n",
    "ratings_matrix = ratings_matrix.reindex(ratings_matrix.astype(bool).sum(axis=1).sort_values(ascending=False).index)\n",
    "\n",
    "# reindex the ratings matrix with the users ordered by the number of ratings\n",
    "ratings_matrix = ratings_matrix.reindex(user_counts.index)\n",
    "\n",
    "# split into (50/20/30) train/(validation/test folds)\n",
    "train, val_test_folds = train_test_split(ratings_matrix, test_size=0.5, random_state=SEED, shuffle=False)"
   ]
  },
  {
   "cell_type": "code",
   "execution_count": null,
   "metadata": {},
   "outputs": [],
   "source": [
    "val_combinations = [(0, 1), (0, 2), (0, 3), (0, 4), (1, 2), (1, 3), (1, 4), (2, 3), (2, 4), (3, 4)]\n",
    "test_combinations = [(2, 3, 4), (1, 3, 4), (1, 2, 4), (1, 2, 3), (0, 3, 4), (0, 2, 4), (0, 2, 3), (0, 1, 4), (0, 1, 3), (0, 1, 2)]"
   ]
  },
  {
   "cell_type": "code",
   "execution_count": null,
   "metadata": {},
   "outputs": [],
   "source": [
    "# shuffle the val_test\n",
    "val_test_folds = val_test_folds.sample(frac=1, random_state=SEED)\n",
    "\n",
    "# split into 5 folds for cross validation\n",
    "val_test_folds = np.array_split(val_test_folds, 5)"
   ]
  },
  {
   "cell_type": "code",
   "execution_count": null,
   "metadata": {},
   "outputs": [],
   "source": [
    "test_set = None"
   ]
  },
  {
   "cell_type": "markdown",
   "metadata": {},
   "source": [
    "## Data processing"
   ]
  },
  {
   "cell_type": "code",
   "execution_count": null,
   "metadata": {},
   "outputs": [],
   "source": [
    "# tests\n",
    "best_params = {'n_clusters': 100, 'max_iter': 300}"
   ]
  },
  {
   "cell_type": "code",
   "execution_count": null,
   "metadata": {},
   "outputs": [],
   "source": [
    "kmeans = KMeans(n_clusters=best_params['n_clusters'], max_iter=best_params['max_iter'], random_state=SEED)\n",
    "\n",
    "# tests training\n",
    "kmeans.fit(train)\n",
    "\n",
    "labels = kmeans.labels_"
   ]
  },
  {
   "cell_type": "code",
   "execution_count": null,
   "metadata": {},
   "outputs": [],
   "source": [
    "for i, folds in enumerate(test_combinations):\n",
    "\n",
    "    # get the test set\n",
    "    test_folds = [val_test_folds[x] for x in folds]\n",
    "    test_set = pd.concat(test_folds)\n",
    "\n",
    "    users_precision = {}\n",
    "    users_precision[3] = []\n",
    "    users_precision[5] = []\n",
    "    users_precision[10] = []\n",
    "\n",
    "    for user in test_set.index:\n",
    "        rated_movies = ratings_matrix.loc[user][ratings_matrix.loc[user] > 0].index.tolist()\n",
    "\n",
    "        \n",
    "        # order the movies by timestamp (descending)\n",
    "        rated_movies = ratings.loc[\n",
    "            ratings['movieId'].isin(rated_movies) & \n",
    "            (ratings['userId'] == user)].sort_values(\n",
    "                by=['timestamp'], ascending=False\n",
    "                )['movieId'].tolist()\n",
    "        \n",
    "        for n in [3, 5, 10]:\n",
    "            user_movies_watched = rated_movies[:-n]\n",
    "            user_movies_to_predict = rated_movies[-n:]\n",
    "\n",
    "            # create an user with the movies watched\n",
    "            user_data = np.zeros(len(test_set.columns))\n",
    "\n",
    "            for movie in user_movies_watched:\n",
    "                user_data[ratings_matrix.columns.get_loc(movie)] = ratings_matrix.loc[user][movie]\n",
    "\n",
    "            user_data = np.array(user_data).reshape(1, -1)\n",
    "            \n",
    "            \n",
    "            prediction = kmeans.predict(user_data)\n",
    "            users_alike = np.where(labels == prediction)[0]\n",
    "\n",
    "            movies_rate = np.zeros(len(test_set.columns))\n",
    "            \n",
    "            for u in users_alike:\n",
    "                movies_rate += ratings_matrix.loc[u].values\n",
    "            \n",
    "            movies_rate = pd.Series(movies_rate, index=test_set.columns).sort_values(ascending=True)\n",
    "\n",
    "            # get the top 10 movies_rate that the user has not watched\n",
    "            movies_rate = movies_rate[~movies_rate.index.isin(user_movies_watched)]\n",
    "            movies_rate = movies_rate[:n]\n",
    "\n",
    "            hits = len(set(movies_rate).intersection(user_movies_to_predict))\n",
    "\n",
    "            \n",
    "            precision = hits / n\n",
    "            users_precision[n].append(precision)\n",
    "\n",
    "    for n in [3, 5, 10]:\n",
    "        precision = np.array(users_precision[n])\n",
    "        average = precision.mean()\n",
    "        std = precision.std()\n",
    "        with open('KMeans_test.csv', 'a') as f:\n",
    "            f.write(f'{folds},{n},{average},{std}\\n')"
   ]
  }
 ],
 "metadata": {
  "kernelspec": {
   "display_name": "base",
   "language": "python",
   "name": "python3"
  },
  "language_info": {
   "codemirror_mode": {
    "name": "ipython",
    "version": 3
   },
   "file_extension": ".py",
   "mimetype": "text/x-python",
   "name": "python",
   "nbconvert_exporter": "python",
   "pygments_lexer": "ipython3",
   "version": "3.10.9"
  },
  "orig_nbformat": 4
 },
 "nbformat": 4,
 "nbformat_minor": 2
}
