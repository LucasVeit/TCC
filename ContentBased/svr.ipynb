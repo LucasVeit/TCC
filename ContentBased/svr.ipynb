{
 "cells": [
  {
   "cell_type": "code",
   "execution_count": null,
   "metadata": {},
   "outputs": [],
   "source": [
    "import pandas as pd\n",
    "import numpy as np\n",
    "from sklearn.feature_extraction.text import TfidfVectorizer\n",
    "from sklearn.svm import SVR\n",
    "from sklearn.model_selection import train_test_split"
   ]
  },
  {
   "cell_type": "code",
   "execution_count": null,
   "metadata": {},
   "outputs": [],
   "source": [
    "SEED = 42\n",
    "np.random.seed(SEED)"
   ]
  },
  {
   "cell_type": "markdown",
   "metadata": {},
   "source": [
    "## Data PreProcessing"
   ]
  },
  {
   "cell_type": "code",
   "execution_count": null,
   "metadata": {},
   "outputs": [],
   "source": [
    "movies = pd.read_csv('../Dataset/movies.csv')\n",
    "ratings = pd.read_csv('../Dataset/ratings.csv')"
   ]
  },
  {
   "cell_type": "code",
   "execution_count": null,
   "metadata": {},
   "outputs": [],
   "source": [
    "movies_data = movies.copy()"
   ]
  },
  {
   "cell_type": "code",
   "execution_count": null,
   "metadata": {},
   "outputs": [],
   "source": [
    "# remove year from title and add to a new column\n",
    "movies_data['year'] = movies_data.title.str.extract(\"\\((\\d{4})\\)\", expand=True)\n",
    "movies_data['year'] = pd.to_datetime(movies_data['year'], format='%Y')\n",
    "movies_data['year'] = movies_data['year'].dt.year\n",
    "movies_data['title'] = movies_data.title.str[:-7]\n",
    "\n",
    "movies_data = movies_data[movies_data.movieId.isin(ratings.movieId.unique())]\n",
    "\n",
    "# one hot encoding for genres\n",
    "movies_data = movies_data.join(movies_data.genres.str.get_dummies(sep='|'))\n",
    "                     \n",
    "# create a TF-IDF vectorizer for the titles and insert into the movies dataframe\n",
    "tfidf = TfidfVectorizer(stop_words='english')\n",
    "movies_data['title'] = movies_data['title'].str.lower()\n",
    "tfidf_matrix = tfidf.fit_transform(movies_data['title'])\n",
    "tfidf_df = pd.DataFrame(tfidf_matrix.toarray(), index=movies_data.index.tolist())\n",
    "movies_data = pd.concat([movies_data, tfidf_df], axis=1, join='inner').drop(['genres', 'title'], axis=1)\n",
    "\n",
    "# remove movies with the genre 'no genres listed'\n",
    "movies_data = movies_data[movies_data['(no genres listed)'] == 0]\n",
    "movies_data = movies_data.drop('(no genres listed)', axis=1)\n",
    "\n",
    "# remove movies with no year\n",
    "movies_data = movies_data[movies_data['year'].notna()]"
   ]
  },
  {
   "cell_type": "code",
   "execution_count": null,
   "metadata": {},
   "outputs": [],
   "source": [
    "ratings = ratings[ratings.movieId.isin(movies_data['movieId'])]"
   ]
  },
  {
   "cell_type": "code",
   "execution_count": null,
   "metadata": {},
   "outputs": [],
   "source": [
    "movies_data.index = movies_data['movieId']\n",
    "movies_data = movies_data.drop('movieId', axis=1)"
   ]
  },
  {
   "cell_type": "code",
   "execution_count": null,
   "metadata": {},
   "outputs": [],
   "source": [
    "# create a ratings matrix\n",
    "ratings_matrix = ratings.pivot_table(index=['userId'], columns=['movieId'], values='rating')\n",
    "\n",
    "# get the number of ratings for each user\n",
    "user_counts = pd.DataFrame(ratings_matrix.count(axis=1), columns=['count'])\n",
    "user_counts['userId'] = user_counts.index\n",
    "user_counts = user_counts.sort_values('count', ascending=False)\n",
    "\n",
    "# Fill NaNs with 0\n",
    "ratings_matrix.fillna(0, inplace=True)\n",
    "\n",
    "# order the users by the number of ratings (descending)\n",
    "ratings_matrix = ratings_matrix.reindex(ratings_matrix.astype(bool).sum(axis=1).sort_values(ascending=False).index)\n",
    "\n",
    "# reindex the ratings matrix with the users ordered by the number of ratings\n",
    "ratings_matrix = ratings_matrix.reindex(user_counts.index)\n",
    "\n",
    "# split into (50/20/30) train/(validation/test folds)\n",
    "train, val_test_folds = train_test_split(ratings_matrix, test_size=0.5, random_state=SEED, shuffle=False)"
   ]
  },
  {
   "cell_type": "code",
   "execution_count": null,
   "metadata": {},
   "outputs": [],
   "source": [
    "val_combinations = [(0, 1), (0, 2), (0, 3), (0, 4), (1, 2), (1, 3), (1, 4), (2, 3), (2, 4), (3, 4)]\n",
    "test_combinations = [(2, 3, 4), (1, 3, 4), (1, 2, 4), (1, 2, 3), (0, 3, 4), (0, 2, 4), (0, 2, 3), (0, 1, 4), (0, 1, 3), (0, 1, 2)]"
   ]
  },
  {
   "cell_type": "code",
   "execution_count": null,
   "metadata": {},
   "outputs": [],
   "source": [
    "print(movies_data.shape)\n",
    "print(ratings_matrix.shape)"
   ]
  },
  {
   "cell_type": "code",
   "execution_count": null,
   "metadata": {},
   "outputs": [],
   "source": [
    "# shuffle the val_test\n",
    "val_test_folds = val_test_folds.sample(frac=1, random_state=SEED)\n",
    "\n",
    "# split into 5 folds for cross validation\n",
    "val_test_folds = np.array_split(val_test_folds, 5)"
   ]
  },
  {
   "cell_type": "code",
   "execution_count": null,
   "metadata": {},
   "outputs": [],
   "source": [
    "validation_set = None\n",
    "validation_folds = None"
   ]
  },
  {
   "attachments": {},
   "cell_type": "markdown",
   "metadata": {},
   "source": [
    "## Data Processing"
   ]
  },
  {
   "cell_type": "code",
   "execution_count": null,
   "metadata": {},
   "outputs": [],
   "source": [
    "best_params = {'c': 0.1, 'kernel': 'linear'}"
   ]
  },
  {
   "cell_type": "code",
   "execution_count": null,
   "metadata": {},
   "outputs": [],
   "source": [
    "svr = SVR(C=best_params['c'], kernel=best_params['kernel'])\n"
   ]
  },
  {
   "cell_type": "code",
   "execution_count": null,
   "metadata": {},
   "outputs": [],
   "source": [
    "for i, folds in enumerate(test_combinations):\n",
    "    test_folds = [val_test_folds[x] for x in folds]\n",
    "    test_set = pd.concat(test_folds)\n",
    "    \n",
    "    users_precision = {}\n",
    "    users_precision[3] = []\n",
    "    users_precision[5] = []\n",
    "    users_precision[10] = []\n",
    "\n",
    "    for user in test_set.index:\n",
    "        rated_movies = ratings_matrix.loc[user][ratings_matrix.loc[user] > 0].index.tolist()\n",
    "\n",
    "        # order the movies by timestamp (descending)\n",
    "        rated_movies = ratings.loc[\n",
    "            ratings['movieId'].isin(rated_movies) & \n",
    "            (ratings['userId'] == user)].sort_values(\n",
    "                by=['timestamp'], ascending=False\n",
    "                )['movieId'].tolist()\n",
    "        \n",
    "        for n in [3, 5, 10]: \n",
    "            user_movies_watched = rated_movies[:-n]\n",
    "            user_movies_to_predict = rated_movies[-n:]\n",
    "\n",
    "            X = movies_data[movies_data.index.isin(user_movies_watched)].values\n",
    "        \n",
    "            y = ratings[ratings['movieId'].isin(user_movies_watched) & ratings['userId'].isin([user])]['rating'].tolist()\n",
    "            \n",
    "            svr.fit(X, y)\n",
    "\n",
    "            # get all the movies that arent in the user_movies_watched\n",
    "            movies_pred = movies_data[~movies_data.index.isin(user_movies_watched)].index.tolist()\n",
    "\n",
    "            X_pred = movies_data[~movies_data.index.isin(user_movies_watched)].values\n",
    "            y_pred = svr.predict(X_pred)\n",
    "\n",
    "            \n",
    "            predictions_df = pd.DataFrame({'movieId': movies_pred, 'rating': y_pred})\n",
    "            predictions_df = predictions_df.sort_values(by='rating', ascending=False)\n",
    "            top_movies = predictions_df['movieId'].head(n).tolist()\n",
    "\n",
    "            hits = len(set(top_movies).intersection(set(user_movies_to_predict)))\n",
    "            precision = hits / n\n",
    "\n",
    "            users_precision[n].append(precision)\n",
    "            print(n, precision)\n",
    "\n",
    "        print(user)\n",
    "        \n",
    "    for n in [3, 5, 10]:\n",
    "        precision = np.array(users_precision[n])\n",
    "        average = precision.mean()\n",
    "        std = precision.std()\n",
    "        with open('SVR_test.csv', 'a') as f:\n",
    "            f.write(f'{folds},{n},{average},{std}\\n')"
   ]
  }
 ],
 "metadata": {
  "kernelspec": {
   "display_name": "base",
   "language": "python",
   "name": "python3"
  },
  "language_info": {
   "codemirror_mode": {
    "name": "ipython",
    "version": 3
   },
   "file_extension": ".py",
   "mimetype": "text/x-python",
   "name": "python",
   "nbconvert_exporter": "python",
   "pygments_lexer": "ipython3",
   "version": "3.10.9"
  },
  "orig_nbformat": 4
 },
 "nbformat": 4,
 "nbformat_minor": 2
}
