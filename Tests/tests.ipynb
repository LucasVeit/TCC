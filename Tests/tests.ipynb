{
 "cells": [
  {
   "cell_type": "code",
   "execution_count": 86,
   "metadata": {},
   "outputs": [],
   "source": [
    "from scipy import stats\n",
    "import numpy as np"
   ]
  },
  {
   "cell_type": "code",
   "execution_count": 87,
   "metadata": {},
   "outputs": [],
   "source": [
    "baseline = {}\n",
    "\n",
    "baseline[3] = [0.024043715846994537, 0.02841530054644809, 0.03169398907103826, 0.024043715846994537, 0.0273224043715847, 0.030601092896174867, 0.02295081967213115, 0.034972677595628415, 0.027322404371584706, 0.03060109289617487]\n",
    "baseline[5] = [0.056284153005464486, 0.05737704918032787, 0.06448087431693988, 0.05792349726775955, 0.053551912568306013, 0.06065573770491802, 0.0540983606557377, 0.061748633879781425, 0.0551912568306011, 0.06229508196721311]\n",
    "baseline[10] = [0.0994535519125683, 0.1087431693989071, 0.11693989071038251, 0.11092896174863387, 0.0989071038251366, 0.10710382513661203, 0.10109289617486339, 0.1163934426229508, 0.11038251366120216, 0.11857923497267761]"
   ]
  },
  {
   "cell_type": "code",
   "execution_count": 88,
   "metadata": {},
   "outputs": [
    {
     "name": "stdout",
     "output_type": "stream",
     "text": [
      "n =  3\n",
      "mean =  0.028196721311475416\n",
      "std =  0.003650993024806572\n",
      "95% CI =  (0.025933853971721696, 0.030459588651229136)\n",
      "\n",
      "n =  5\n",
      "mean =  0.058360655737704915\n",
      "std =  0.0035565333541580256\n",
      "95% CI =  (0.056156334032572294, 0.060564977442837536)\n",
      "\n",
      "n =  10\n",
      "mean =  0.10885245901639344\n",
      "std =  0.006885245901639346\n",
      "95% CI =  (0.10458501781036203, 0.11311990022242485)\n",
      "\n"
     ]
    }
   ],
   "source": [
    "for n in [3,5,10]:\n",
    "    print(\"n = \", n)\n",
    "    print(\"mean = \", np.mean(baseline[n]))\n",
    "    print(\"std = \", np.std(baseline[n]))\n",
    "    print(\"95% CI = \", stats.norm.interval(0.95, loc=np.mean(baseline[n]), scale=np.std(baseline[n])/np.sqrt(10)))\n",
    "    print(\"\")"
   ]
  },
  {
   "cell_type": "code",
   "execution_count": 89,
   "metadata": {},
   "outputs": [],
   "source": [
    "contentBased = {}\n",
    "\n",
    "contentBased[3] = [0.012750455373406192, 0.007285974499089253, 0.01821493624772313, 0.0036429872495446266, 0.012750455373406192, 0.01639344262295082, 0.007285974499089253, 0.01821493624772313, 0.010928961748633878, 0.009107468123861566]\n",
    "contentBased[5] = [0.00546448087431694, 0.00546448087431694, 0.009836065573770493, 0.007650273224043717, 0.007650273224043717, 0.008743169398907104, 0.007650273224043717, 0.012021857923497269, 0.006557377049180329, 0.007650273224043715]\n",
    "contentBased[10] = [0.011475409836065575, 0.009836065573770493, 0.017486338797814208, 0.00819672131147541, 0.011475409836065575, 0.012021857923497269, 0.01092896174863388, 0.017486338797814208, 0.008743169398907104, 0.009836065573770493]"
   ]
  },
  {
   "cell_type": "code",
   "execution_count": 90,
   "metadata": {},
   "outputs": [
    {
     "name": "stdout",
     "output_type": "stream",
     "text": [
      "n =  3\n",
      "mean =  0.011657559198542803\n",
      "std =  0.0046936607383333785\n",
      "95% CI =  (0.008748451589600815, 0.014566666807484792)\n",
      "\n",
      "n =  5\n",
      "mean =  0.007868852459016393\n",
      "std =  0.0018802896758563122\n",
      "95% CI =  (0.006703458258627097, 0.009034246659405689)\n",
      "\n",
      "n =  10\n",
      "mean =  0.011748633879781421\n",
      "std =  0.003093591225075008\n",
      "95% CI =  (0.009831241406498948, 0.013666026353063894)\n",
      "\n"
     ]
    }
   ],
   "source": [
    "for n in [3,5,10]:\n",
    "    print(\"n = \", str(n))\n",
    "    print(\"mean = \", np.mean(contentBased[n]))\n",
    "    print(\"std = \", np.std(contentBased[n]))\n",
    "    print(\"95% CI = \", stats.norm.interval(0.95, loc=np.mean(contentBased[n]), scale=np.std(contentBased[n])/np.sqrt(10)))\n",
    "    print(\"\")"
   ]
  },
  {
   "cell_type": "code",
   "execution_count": 91,
   "metadata": {},
   "outputs": [],
   "source": [
    "collaborativeFiltering = {}\n",
    "collaborativeFiltering[3] = [0.18761384335154824, 0.17486338797814208, 0.20765027322404372, 0.18579234972677597, 0.1912568306010929, 0.1821493624772313, 0.18579234972677597, 0.18761384335154824, 0.17668488160291437, 0.16211293260473586]\n",
    "collaborativeFiltering[5] = [0.20218579234972678, 0.21092896174863388, 0.22404371584699453, 0.21311475409836064, 0.20983606557377052, 0.22185792349726774, 0.20765027322404372, 0.22185792349726774, 0.20546448087431696, 0.22076502732240436]\n",
    "collaborativeFiltering[10] = [0.22185792349726777, 0.226775956284153, 0.23551912568306016, 0.22349726775956288, 0.22295081967213112, 0.23224043715846995, 0.226775956284153, 0.23224043715847004, 0.2300546448087432, 0.23387978142076501]"
   ]
  },
  {
   "cell_type": "code",
   "execution_count": 92,
   "metadata": {},
   "outputs": [
    {
     "name": "stdout",
     "output_type": "stream",
     "text": [
      "n = 3\n",
      "mean = 0.18415300546448088\n",
      "std = 0.011241729780844796\n",
      "95% CI = (0.17718543719180302, 0.19112057373715874)\n",
      "\n",
      "n = 5\n",
      "mean = 0.2137704918032787\n",
      "std = 0.007415604569917967\n",
      "95% CI = (0.20917433692930854, 0.21836664667724887)\n",
      "\n",
      "n = 10\n",
      "mean = 0.22857923497267763\n",
      "std = 0.004630643781941081\n",
      "95% CI = (0.22570918496025855, 0.2314492849850967)\n",
      "\n"
     ]
    }
   ],
   "source": [
    "for n in [3,5,10]:\n",
    "    print(\"n = \" + str(n))\n",
    "    print(\"mean = \" + str(np.mean(collaborativeFiltering[n])))\n",
    "    print(\"std = \" + str(np.std(collaborativeFiltering[n])))\n",
    "    print(\"95% CI = \" + str(stats.norm.interval(0.95, loc=np.mean(collaborativeFiltering[n]), scale=np.std(collaborativeFiltering[n])/np.sqrt(10))))\n",
    "    print(\"\")"
   ]
  },
  {
   "cell_type": "code",
   "execution_count": 93,
   "metadata": {},
   "outputs": [],
   "source": [
    "hybrid = {}\n",
    "\n",
    "hybrid[3] = [0.009107468123861566, 0.007285974499089253, 0.007285974499089253, 0.01092896174863388, 0.00546448087431694, 0.009107468123861566, 0.009107468123861566, 0.007285974499089253, 0.007285974499089253, 0.009107468123861566]\n",
    "hybrid[5] = [0.013114754098360657, 0.01530054644808743, 0.015300546448087433, 0.015300546448087433, 0.026229508196721315, 0.019672131147540985, 0.019672131147540985, 0.024043715846994537, 0.022950819672131154, 0.017486338797814208]\n",
    "hybrid[10] = [0.05245901639344262, 0.05191256830601093, 0.05519125683060109, 0.051366120218579225, 0.051366120218579225, 0.05081967213114755, 0.05737704918032787, 0.053005464480874315, 0.05081967213114755, 0.04972677595628415]"
   ]
  },
  {
   "cell_type": "code",
   "execution_count": 94,
   "metadata": {},
   "outputs": [
    {
     "name": "stdout",
     "output_type": "stream",
     "text": [
      "n =  3\n",
      "mean =  0.008196721311475409\n",
      "std =  0.0014685351089796992\n",
      "95% CI =  (0.007286530546164953, 0.009106912076785864)\n",
      "\n",
      "n =  5\n",
      "mean =  0.018907103825136613\n",
      "std =  0.004148689157617992\n",
      "95% CI =  (0.016335766894669188, 0.02147844075560404)\n",
      "\n",
      "n =  10\n",
      "mean =  0.05240437158469945\n",
      "std =  0.0021782657298354915\n",
      "95% CI =  (0.05105429330630814, 0.053754449863090754)\n",
      "\n"
     ]
    }
   ],
   "source": [
    "for n in [3,5,10]:\n",
    "    print(\"n = \", n)\n",
    "    print(\"mean = \", np.mean(hybrid[n]))\n",
    "    print(\"std = \", np.std(hybrid[n]))\n",
    "    print(\"95% CI = \", stats.norm.interval(0.95, loc=np.mean(hybrid[n]), scale=np.std(hybrid[n])/np.sqrt(10)))\n",
    "    print(\"\")"
   ]
  },
  {
   "attachments": {},
   "cell_type": "markdown",
   "metadata": {},
   "source": [
    "### Top 3"
   ]
  },
  {
   "cell_type": "code",
   "execution_count": 95,
   "metadata": {},
   "outputs": [],
   "source": [
    "n = 3"
   ]
  },
  {
   "cell_type": "code",
   "execution_count": 96,
   "metadata": {},
   "outputs": [
    {
     "data": {
      "text/plain": [
       "KruskalResult(statistic=33.82550943396229, pvalue=2.1565482227493705e-07)"
      ]
     },
     "execution_count": 96,
     "metadata": {},
     "output_type": "execute_result"
    }
   ],
   "source": [
    "stats.kruskal(baseline[n], contentBased[n], collaborativeFiltering[n], hybrid[n])"
   ]
  },
  {
   "cell_type": "code",
   "execution_count": 97,
   "metadata": {},
   "outputs": [
    {
     "data": {
      "text/plain": [
       "MannwhitneyuResult(statistic=100.0, pvalue=0.00017861448837368162)"
      ]
     },
     "execution_count": 97,
     "metadata": {},
     "output_type": "execute_result"
    }
   ],
   "source": [
    "stats.mannwhitneyu(baseline[n], contentBased[n])"
   ]
  },
  {
   "cell_type": "code",
   "execution_count": 98,
   "metadata": {},
   "outputs": [
    {
     "data": {
      "text/plain": [
       "MannwhitneyuResult(statistic=0.0, pvalue=0.0001796225049907081)"
      ]
     },
     "execution_count": 98,
     "metadata": {},
     "output_type": "execute_result"
    }
   ],
   "source": [
    "stats.mannwhitneyu(baseline[n], collaborativeFiltering[n])\n"
   ]
  },
  {
   "cell_type": "code",
   "execution_count": 99,
   "metadata": {},
   "outputs": [
    {
     "data": {
      "text/plain": [
       "MannwhitneyuResult(statistic=100.0, pvalue=0.00016211073447401525)"
      ]
     },
     "execution_count": 99,
     "metadata": {},
     "output_type": "execute_result"
    }
   ],
   "source": [
    "stats.mannwhitneyu(baseline[n], hybrid[n])\n"
   ]
  },
  {
   "cell_type": "code",
   "execution_count": 100,
   "metadata": {},
   "outputs": [
    {
     "data": {
      "text/plain": [
       "MannwhitneyuResult(statistic=0.0, pvalue=0.00017761066068896375)"
      ]
     },
     "execution_count": 100,
     "metadata": {},
     "output_type": "execute_result"
    }
   ],
   "source": [
    "stats.mannwhitneyu(contentBased[n], collaborativeFiltering[n])"
   ]
  },
  {
   "cell_type": "code",
   "execution_count": 101,
   "metadata": {},
   "outputs": [
    {
     "data": {
      "text/plain": [
       "MannwhitneyuResult(statistic=72.0, pvalue=0.09666627282468213)"
      ]
     },
     "execution_count": 101,
     "metadata": {},
     "output_type": "execute_result"
    }
   ],
   "source": [
    "stats.mannwhitneyu(contentBased[n], hybrid[n])"
   ]
  },
  {
   "cell_type": "code",
   "execution_count": 102,
   "metadata": {},
   "outputs": [
    {
     "data": {
      "text/plain": [
       "MannwhitneyuResult(statistic=100.0, pvalue=0.00016117654782723672)"
      ]
     },
     "execution_count": 102,
     "metadata": {},
     "output_type": "execute_result"
    }
   ],
   "source": [
    "stats.mannwhitneyu(collaborativeFiltering[n], hybrid[n])"
   ]
  },
  {
   "attachments": {},
   "cell_type": "markdown",
   "metadata": {},
   "source": [
    "### Top 5"
   ]
  },
  {
   "cell_type": "code",
   "execution_count": 103,
   "metadata": {},
   "outputs": [],
   "source": [
    "n = 5"
   ]
  },
  {
   "cell_type": "code",
   "execution_count": 104,
   "metadata": {},
   "outputs": [
    {
     "data": {
      "text/plain": [
       "KruskalResult(statistic=36.61284265865566, pvalue=5.5563439365301266e-08)"
      ]
     },
     "execution_count": 104,
     "metadata": {},
     "output_type": "execute_result"
    }
   ],
   "source": [
    "stats.kruskal(baseline[n], contentBased[n], collaborativeFiltering[n], hybrid[n])"
   ]
  },
  {
   "cell_type": "code",
   "execution_count": 105,
   "metadata": {},
   "outputs": [
    {
     "data": {
      "text/plain": [
       "MannwhitneyuResult(statistic=100.0, pvalue=0.00017761066068896375)"
      ]
     },
     "execution_count": 105,
     "metadata": {},
     "output_type": "execute_result"
    }
   ],
   "source": [
    "stats.mannwhitneyu(baseline[n], contentBased[n])"
   ]
  },
  {
   "cell_type": "code",
   "execution_count": 106,
   "metadata": {},
   "outputs": [
    {
     "data": {
      "text/plain": [
       "MannwhitneyuResult(statistic=0.0, pvalue=0.00018165114609146497)"
      ]
     },
     "execution_count": 106,
     "metadata": {},
     "output_type": "execute_result"
    }
   ],
   "source": [
    "stats.mannwhitneyu(baseline[n], collaborativeFiltering[n])"
   ]
  },
  {
   "cell_type": "code",
   "execution_count": 107,
   "metadata": {},
   "outputs": [
    {
     "data": {
      "text/plain": [
       "MannwhitneyuResult(statistic=100.0, pvalue=0.0001806347208075351)"
      ]
     },
     "execution_count": 107,
     "metadata": {},
     "output_type": "execute_result"
    }
   ],
   "source": [
    "stats.mannwhitneyu(baseline[n], hybrid[n])"
   ]
  },
  {
   "cell_type": "code",
   "execution_count": 108,
   "metadata": {},
   "outputs": [
    {
     "data": {
      "text/plain": [
       "MannwhitneyuResult(statistic=0.0, pvalue=0.00017661101166893502)"
      ]
     },
     "execution_count": 108,
     "metadata": {},
     "output_type": "execute_result"
    }
   ],
   "source": [
    "stats.mannwhitneyu(contentBased[n], collaborativeFiltering[n])"
   ]
  },
  {
   "cell_type": "code",
   "execution_count": 109,
   "metadata": {},
   "outputs": [
    {
     "data": {
      "text/plain": [
       "MannwhitneyuResult(statistic=0.0, pvalue=0.00017561553104590864)"
      ]
     },
     "execution_count": 109,
     "metadata": {},
     "output_type": "execute_result"
    }
   ],
   "source": [
    "stats.mannwhitneyu(contentBased[n], hybrid[n])"
   ]
  },
  {
   "cell_type": "code",
   "execution_count": 110,
   "metadata": {},
   "outputs": [
    {
     "data": {
      "text/plain": [
       "MannwhitneyuResult(statistic=100.0, pvalue=0.0001796225049907081)"
      ]
     },
     "execution_count": 110,
     "metadata": {},
     "output_type": "execute_result"
    }
   ],
   "source": [
    "stats.mannwhitneyu(collaborativeFiltering[n], hybrid[n])"
   ]
  },
  {
   "attachments": {},
   "cell_type": "markdown",
   "metadata": {},
   "source": [
    "### Top 10"
   ]
  },
  {
   "cell_type": "code",
   "execution_count": 111,
   "metadata": {},
   "outputs": [],
   "source": [
    "n = 10"
   ]
  },
  {
   "attachments": {},
   "cell_type": "markdown",
   "metadata": {},
   "source": [
    "stats.kruskal(baseline[n], contentBased[n], collaborative[n], hybrid[n])"
   ]
  },
  {
   "cell_type": "code",
   "execution_count": 112,
   "metadata": {},
   "outputs": [
    {
     "data": {
      "text/plain": [
       "MannwhitneyuResult(statistic=100.0, pvalue=0.0001796225049907081)"
      ]
     },
     "execution_count": 112,
     "metadata": {},
     "output_type": "execute_result"
    }
   ],
   "source": [
    "stats.mannwhitneyu(baseline[n], contentBased[n])"
   ]
  },
  {
   "cell_type": "code",
   "execution_count": 113,
   "metadata": {},
   "outputs": [
    {
     "data": {
      "text/plain": [
       "MannwhitneyuResult(statistic=0.0, pvalue=0.00018165114609146497)"
      ]
     },
     "execution_count": 113,
     "metadata": {},
     "output_type": "execute_result"
    }
   ],
   "source": [
    "stats.mannwhitneyu(baseline[n], collaborativeFiltering[n])"
   ]
  },
  {
   "cell_type": "code",
   "execution_count": 114,
   "metadata": {},
   "outputs": [
    {
     "data": {
      "text/plain": [
       "MannwhitneyuResult(statistic=100.0, pvalue=0.0001806347208075351)"
      ]
     },
     "execution_count": 114,
     "metadata": {},
     "output_type": "execute_result"
    }
   ],
   "source": [
    "stats.mannwhitneyu(baseline[n], hybrid[n])"
   ]
  },
  {
   "cell_type": "code",
   "execution_count": 115,
   "metadata": {},
   "outputs": [
    {
     "data": {
      "text/plain": [
       "MannwhitneyuResult(statistic=0.0, pvalue=0.00017861448837368162)"
      ]
     },
     "execution_count": 115,
     "metadata": {},
     "output_type": "execute_result"
    }
   ],
   "source": [
    "stats.mannwhitneyu(contentBased[n], collaborativeFiltering[n])"
   ]
  },
  {
   "cell_type": "code",
   "execution_count": 116,
   "metadata": {},
   "outputs": [
    {
     "data": {
      "text/plain": [
       "MannwhitneyuResult(statistic=0.0, pvalue=0.00017761066068896375)"
      ]
     },
     "execution_count": 116,
     "metadata": {},
     "output_type": "execute_result"
    }
   ],
   "source": [
    "stats.mannwhitneyu(contentBased[n], hybrid[n])"
   ]
  },
  {
   "cell_type": "code",
   "execution_count": 117,
   "metadata": {},
   "outputs": [
    {
     "data": {
      "text/plain": [
       "MannwhitneyuResult(statistic=100.0, pvalue=0.0001796225049907081)"
      ]
     },
     "execution_count": 117,
     "metadata": {},
     "output_type": "execute_result"
    }
   ],
   "source": [
    "stats.mannwhitneyu(collaborativeFiltering[n], hybrid[n])"
   ]
  },
  {
   "cell_type": "code",
   "execution_count": 120,
   "metadata": {},
   "outputs": [],
   "source": [
    "import csv\n",
    "\n",
    "with open('confidenceIntervals.csv', 'w', newline='') as csvfile:\n",
    "    spamwriter = csv.writer(csvfile, delimiter=',', quotechar='|', quoting=csv.QUOTE_MINIMAL)\n",
    "\n",
    "    spamwriter.writerow([\"Algoritmo\", \"n\", \"Limite Inferior\", \"Limite Superior\"])\n",
    "\n",
    "    for n in [3,5,10]:\n",
    "        spamwriter.writerow([\"Referência\", n, round(stats.norm.interval(0.95, loc=np.mean(baseline[n]), scale=np.std(baseline[n])/np.sqrt(10))[0], 3), round(stats.norm.interval(0.95, loc=np.mean(baseline[n]), scale=np.std(baseline[n])/np.sqrt(10))[1], 3)])\n",
    "    for n in [3,5,10]:\n",
    "        spamwriter.writerow([\"BC\", n, round(stats.norm.interval(0.95, loc=np.mean(contentBased[n]), scale=np.std(contentBased[n])/np.sqrt(10))[0], 3), round(stats.norm.interval(0.95, loc=np.mean(contentBased[n]), scale=np.std(contentBased[n])/np.sqrt(10))[1], 3)])\n",
    "    for n in [3,5,10]:\n",
    "        spamwriter.writerow([\"FC\", n, round(stats.norm.interval(0.95, loc=np.mean(collaborativeFiltering[n]), scale=np.std(collaborativeFiltering[n])/np.sqrt(10))[0], 3), round(stats.norm.interval(0.95, loc=np.mean(collaborativeFiltering[n]), scale=np.std(collaborativeFiltering[n])/np.sqrt(10))[1], 3)])\n",
    "    for n in [3,5,10]:\n",
    "        spamwriter.writerow([\"Híbrido\", n, round(stats.norm.interval(0.95, loc=np.mean(hybrid[n]), scale=np.std(hybrid[n])/np.sqrt(10))[0], 3), round(stats.norm.interval(0.95, loc=np.mean(hybrid[n]), scale=np.std(hybrid[n])/np.sqrt(10))[1], 3)])"
   ]
  },
  {
   "cell_type": "code",
   "execution_count": 133,
   "metadata": {},
   "outputs": [],
   "source": [
    "with open('kruskalWallis.csv', 'w', newline='') as csvfile:\n",
    "    spamwriter = csv.writer(csvfile, delimiter=',', quotechar='|', quoting=csv.QUOTE_MINIMAL)\n",
    "\n",
    "    spamwriter.writerow([\"n\", \"p-value\"])\n",
    "\n",
    "    for n in [3,5,10]:\n",
    "        spamwriter.writerow([n, round(stats.kruskal(baseline[n], contentBased[n], collaborativeFiltering[n], hybrid[n])[1], 10)])"
   ]
  },
  {
   "cell_type": "code",
   "execution_count": 129,
   "metadata": {},
   "outputs": [],
   "source": [
    "with open('pValues.csv', 'w', newline='') as csvfile:\n",
    "    spamwriter = csv.writer(csvfile, delimiter=',', quotechar='|', quoting=csv.QUOTE_MINIMAL)\n",
    "\n",
    "    spamwriter.writerow([\"Algoritmo 1\", \"Algoritmo 2\", \"n\", \"p-value\", \"p-value < 0.05\"])\n",
    "\n",
    "    for n in [3,5,10]:\n",
    "        spamwriter.writerow([\"Referência\", \"BC\", n, round(stats.mannwhitneyu(baseline[n], contentBased[n])[1], 5), stats.mannwhitneyu(baseline[n], contentBased[n])[1] < 0.05])\n",
    "    for n in [3,5,10]:\n",
    "        spamwriter.writerow([\"Referência\", \"FC\", n, round(stats.mannwhitneyu(baseline[n], collaborativeFiltering[n])[1], 5), stats.mannwhitneyu(baseline[n], collaborativeFiltering[n])[1] < 0.05])\n",
    "    for n in [3,5,10]:\n",
    "        spamwriter.writerow([\"Referência\", \"Híbrido\", n, round(stats.mannwhitneyu(baseline[n], hybrid[n])[1], 5), stats.mannwhitneyu(baseline[n], hybrid[n])[1] < 0.05])\n",
    "    for n in [3,5,10]:\n",
    "        spamwriter.writerow([\"BC\", \"FC\", n, round(stats.mannwhitneyu(contentBased[n], collaborativeFiltering[n])[1], 5), stats.mannwhitneyu(contentBased[n], collaborativeFiltering[n])[1] < 0.05])\n",
    "    for n in [3,5,10]:\n",
    "        spamwriter.writerow([\"BC\", \"Híbrido\", n, round(stats.mannwhitneyu(contentBased[n], hybrid[n])[1], 5), stats.mannwhitneyu(contentBased[n], hybrid[n])[1] < 0.05])\n",
    "    for n in [3,5,10]:\n",
    "        spamwriter.writerow([\"FC\", \"Híbrido\", n, round(stats.mannwhitneyu(collaborativeFiltering[n], hybrid[n])[1], 5), stats.mannwhitneyu(collaborativeFiltering[n], hybrid[n])[1] < 0.05])"
   ]
  }
 ],
 "metadata": {
  "kernelspec": {
   "display_name": "base",
   "language": "python",
   "name": "python3"
  },
  "language_info": {
   "codemirror_mode": {
    "name": "ipython",
    "version": 3
   },
   "file_extension": ".py",
   "mimetype": "text/x-python",
   "name": "python",
   "nbconvert_exporter": "python",
   "pygments_lexer": "ipython3",
   "version": "3.10.9"
  },
  "orig_nbformat": 4
 },
 "nbformat": 4,
 "nbformat_minor": 2
}
